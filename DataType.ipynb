{
  "nbformat": 4,
  "nbformat_minor": 0,
  "metadata": {
    "colab": {
      "provenance": [],
      "authorship_tag": "ABX9TyN01Vgj2V76JQHD8PmXRnbd",
      "include_colab_link": true
    },
    "kernelspec": {
      "name": "python3",
      "display_name": "Python 3"
    },
    "language_info": {
      "name": "python"
    }
  },
  "cells": [
    {
      "cell_type": "markdown",
      "metadata": {
        "id": "view-in-github",
        "colab_type": "text"
      },
      "source": [
        "<a href=\"https://colab.research.google.com/github/hsaar/Python25Study/blob/main/DataType.ipynb\" target=\"_parent\"><img src=\"https://colab.research.google.com/assets/colab-badge.svg\" alt=\"Open In Colab\"/></a>"
      ]
    },
    {
      "cell_type": "code",
      "execution_count": 11,
      "metadata": {
        "colab": {
          "base_uri": "https://localhost:8080/"
        },
        "id": "yqjdV0B9YKyn",
        "outputId": "33f7034b-ca0e-47ed-80ff-1481a62f2263"
      },
      "outputs": [
        {
          "output_type": "stream",
          "name": "stdout",
          "text": [
            "a =  0\n",
            "b =  -3.25\n",
            "127\n",
            "291\n",
            "-3.25\n",
            "3.25\n",
            "-0.0\n",
            "-0.0\n"
          ]
        }
      ],
      "source": [
        "#숫자형 DataType\n",
        "a = 123\n",
        "a = -178\n",
        "a = 0\n",
        "\n",
        "print(\"a = \",a)\n",
        "\n",
        "b = 1.2\n",
        "b = -3.25\n",
        "\n",
        "print(\"b = \",b)\n",
        "\n",
        "c = 0o177\n",
        "d = 0x123\n",
        "\n",
        "print(c)\n",
        "print(d)\n",
        "\n",
        "result1 = a+b\n",
        "result2 = a-b\n",
        "result3 = a*b\n",
        "result4 = a/b\n",
        "\n",
        "print(result1)\n",
        "print(result2)\n",
        "print(result3)\n",
        "print(result4)\n",
        "\n"
      ]
    },
    {
      "cell_type": "code",
      "source": [
        "from re import MULTILINE\n",
        "#문자열 DataType\n",
        "food = \"Python's favorite food is perl\"\n",
        "food = 'Python\\'s favorite food is perl'\n",
        "\n",
        "say = '\"Python is very easy.\" he says'\n",
        "\n",
        "MULTILINE = \"Life is too short \\nYou need python\"\n",
        "MULTILINE = '''\n",
        "  Life is too short\n",
        "  You need python\n",
        "'''\n",
        "\n",
        "head = \"Python\"\n",
        "tail = \"is fun!\"\n",
        "\n",
        "a = \"20230331Rainy\"\n",
        "\n",
        "\n",
        "\n",
        "print(\"=\"*50)\n",
        "print(food)\n",
        "print(\"=\"*50)\n",
        "print(say)\n",
        "print(\"=\"*50)\n",
        "print(MULTILINE)\n",
        "print(\"=\"*50)\n",
        "print(head + tail)\n",
        "print(\"=\"*50)\n",
        "print(food*3)\n",
        "print(\"=\"*50)\n",
        "print(len(food))\n",
        "print(\"=\"*50)\n",
        "print(food[3])\n",
        "print(\"=\"*50)\n",
        "print(food[0:6])\n",
        "print(\"=\"*50)\n",
        "print(\"학번:\",a[:8])\n",
        "print(\"이름:\",a[8:])\n",
        "print(\"=\"*50)\n",
        "print(\"I eat %d apples.\"%3)\n",
        "print(\"I eat %5.4s apples\"%'five')\n",
        "print(\"I eat %d apples. so I was sick for %s days\"%(3,'five'))\n",
        "print(\"=\"*50)\n",
        "print(\"I eat {0} apples.\".format(3))\n",
        "print(\"I eat {0} apples.\".format('five'))\n",
        "print(\"I eat {0} apples. sow I was sick for {2} days.\".format(3,'five','four'))"
      ],
      "metadata": {
        "colab": {
          "base_uri": "https://localhost:8080/"
        },
        "id": "n6J45tD_aY5r",
        "outputId": "98c1f83a-fa96-439f-d9ab-3b0d8c984b59"
      },
      "execution_count": 45,
      "outputs": [
        {
          "output_type": "stream",
          "name": "stdout",
          "text": [
            "==================================================\n",
            "Python's favorite food is perl\n",
            "==================================================\n",
            "\"Python is very easy.\" he says\n",
            "==================================================\n",
            "\n",
            "  Life is too short\n",
            "  You need python\n",
            "\n",
            "==================================================\n",
            "Pythonis fun!\n",
            "==================================================\n",
            "Python's favorite food is perlPython's favorite food is perlPython's favorite food is perl\n",
            "==================================================\n",
            "30\n",
            "==================================================\n",
            "h\n",
            "==================================================\n",
            "Python\n",
            "==================================================\n",
            "학번: 20230331\n",
            "이름: Rainy\n",
            "==================================================\n",
            "I eat 3 apples.\n",
            "I eat  five apples\n",
            "I eat 3 apples. so I was sick for five days\n",
            "==================================================\n",
            "I eat 3 apples.\n",
            "I eat five apples.\n",
            "I eat 3 apples. sow I was sick for four days.\n"
          ]
        }
      ]
    }
  ]
}