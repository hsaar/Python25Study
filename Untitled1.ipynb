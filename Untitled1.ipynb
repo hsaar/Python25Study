{
  "nbformat": 4,
  "nbformat_minor": 0,
  "metadata": {
    "colab": {
      "provenance": [],
      "authorship_tag": "ABX9TyNjmtyNtPDI6d/qyYF14qgf",
      "include_colab_link": true
    },
    "kernelspec": {
      "name": "python3",
      "display_name": "Python 3"
    },
    "language_info": {
      "name": "python"
    }
  },
  "cells": [
    {
      "cell_type": "markdown",
      "metadata": {
        "id": "view-in-github",
        "colab_type": "text"
      },
      "source": [
        "<a href=\"https://colab.research.google.com/github/hsaar/Python25Study/blob/main/Untitled1.ipynb\" target=\"_parent\"><img src=\"https://colab.research.google.com/assets/colab-badge.svg\" alt=\"Open In Colab\"/></a>"
      ]
    },
    {
      "cell_type": "code",
      "execution_count": null,
      "metadata": {
        "colab": {
          "base_uri": "https://localhost:8080/"
        },
        "id": "NyT5axKCA4-C",
        "outputId": "d236fcf7-db2a-4388-ea3b-0f0592e923e9"
      },
      "outputs": [
        {
          "output_type": "stream",
          "name": "stdout",
          "text": [
            "성적표(학생명='예인', 학번=1021, 특이사항='', 영어=100, 국어=20, 수학=70)\n",
            "<20>\n"
          ]
        }
      ],
      "source": [
        "import math\n",
        "from dataclasses import dataclass\n",
        "\n",
        "@dataclass\n",
        "class 성적표:\n",
        "  학생명 : str\n",
        "  학번 : int\n",
        "  특이사항 : str\n",
        "  영어 : float\n",
        "  국어 : float\n",
        "  수학 : float\n",
        "\n",
        "  def 평균(self):\n",
        "    return f\"<{self.국어}>\"\n",
        "\n",
        "a = 성적표(\"예인\",1021,\"\",100,20,70)\n",
        "\n",
        "print(a)\n",
        "# print(성적표.국어)\n",
        "print(성적표.평균(a))\n"
      ]
    },
    {
      "cell_type": "code",
      "source": [
        "from google.colab import drive\n",
        "drive.mount('/content/drive')"
      ],
      "metadata": {
        "id": "QmvazJdlT9tn"
      },
      "execution_count": null,
      "outputs": []
    },
    {
      "cell_type": "markdown",
      "source": [
        "# 새 섹션"
      ],
      "metadata": {
        "id": "xqb3fTbXDUBt"
      }
    }
  ]
}