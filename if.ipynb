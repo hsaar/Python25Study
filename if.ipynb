{
  "nbformat": 4,
  "nbformat_minor": 0,
  "metadata": {
    "colab": {
      "provenance": [],
      "authorship_tag": "ABX9TyOuwDt3GuJPobVgbkSWIjX9",
      "include_colab_link": true
    },
    "kernelspec": {
      "name": "python3",
      "display_name": "Python 3"
    },
    "language_info": {
      "name": "python"
    }
  },
  "cells": [
    {
      "cell_type": "markdown",
      "metadata": {
        "id": "view-in-github",
        "colab_type": "text"
      },
      "source": [
        "<a href=\"https://colab.research.google.com/github/hsaar/Python25Study/blob/main/if.ipynb\" target=\"_parent\"><img src=\"https://colab.research.google.com/assets/colab-badge.svg\" alt=\"Open In Colab\"/></a>"
      ]
    },
    {
      "cell_type": "code",
      "execution_count": 14,
      "metadata": {
        "colab": {
          "base_uri": "https://localhost:8080/"
        },
        "id": "v4NL08qivaQ6",
        "outputId": "06b186b0-d0b8-4f74-a942-aabe88c22121"
      },
      "outputs": [
        {
          "output_type": "stream",
          "name": "stdout",
          "text": [
            "택시타라\n",
            "toxi\n"
          ]
        }
      ],
      "source": [
        "money = 2000\n",
        "card = True\n",
        "\n",
        "if money>3000 or card:\n",
        "  print(\"택시타라\")\n",
        "  money = False\n",
        "else:\n",
        "  print(\"걸어가라 거지야\")\n",
        "\n",
        "\n",
        "poket = [\"paper\",\"cellphone\",money]\n",
        "\n",
        "if \"money\" in poket:\n",
        "  print(\"taxi\")\n",
        "elif money in poket:\n",
        "  print(\"toxi\")\n",
        "else:\n",
        "  print(\"walk\")\n",
        "\n",
        "\n",
        "\n"
      ]
    },
    {
      "cell_type": "code",
      "source": [
        "x = 5\n",
        "\n",
        "if 1 < x < 10:\n",
        "  print(True)\n",
        "else:\n",
        "  print(False)\n",
        "\n",
        "if 10 <= x <= 20:\n",
        "  print(True)\n",
        "else:\n",
        "  print(False)"
      ],
      "metadata": {
        "colab": {
          "base_uri": "https://localhost:8080/"
        },
        "id": "y1Gq4GMU0S_8",
        "outputId": "ed830f84-8b0c-4a35-8bd9-59c6e39fec54"
      },
      "execution_count": 19,
      "outputs": [
        {
          "output_type": "stream",
          "name": "stdout",
          "text": [
            "True\n",
            "False\n"
          ]
        }
      ]
    },
    {
      "cell_type": "code",
      "source": [
        "score = 85\n",
        "result = \"합격\" if score > 50 else\"불합격\"\n",
        "print(result)"
      ],
      "metadata": {
        "colab": {
          "base_uri": "https://localhost:8080/"
        },
        "id": "drsYI0Ng0zOE",
        "outputId": "534cb492-9c9a-4c85-8cc3-ea3051875dd9"
      },
      "execution_count": 22,
      "outputs": [
        {
          "output_type": "stream",
          "name": "stdout",
          "text": [
            "합격\n"
          ]
        }
      ]
    },
    {
      "cell_type": "code",
      "source": [],
      "metadata": {
        "id": "BlrZdqXK07d0"
      },
      "execution_count": null,
      "outputs": []
    }
  ]
}